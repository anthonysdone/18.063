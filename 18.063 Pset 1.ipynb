{
 "cells": [
  {
   "cell_type": "markdown",
   "metadata": {},
   "source": [
    "# 18.063 Pset 1\n",
    "### Problem 2\n",
    "$$ df = f'(A)[dA] = (\\nabla f)^T[dA] = d\\lambda - \\lambda $$\n",
    "$$ (\\nabla f)^T = (vv^T)^T = v^{TT}v^T = vv^T$$\n",
    "$$ f'(A) = vec(vv^T)*vec(dA) $$"
   ]
  },
  {
   "cell_type": "code",
   "execution_count": 35,
   "metadata": {},
   "outputs": [
    {
     "name": "stdout",
     "output_type": "stream",
     "text": [
      "df from Forward Difference: 2.571265191875227e-7\n",
      "df assuming del(A) = vvT: 2.5712652015490285e-7"
     ]
    }
   ],
   "source": [
    "using LinearAlgebra\n",
    "A = randn(4,4)\n",
    "dA = 1E-7 * randn(4,4)\n",
    "A = .5 * (A + A')\n",
    "\n",
    "λ = eigvals(A)[1]\n",
    "dλ = eigvals(A + dA)[1]\n",
    "v = normalize(eigvecs(A)[:, 1]) # Assuming v_1 corresponds to λ_1\n",
    "df_fd = dλ - λ\n",
    "df_vvT = dot(vec(v*v'), vec(dA))\n",
    "\n",
    "print(\"df from Forward Difference: \")\n",
    "println(df_fd)\n",
    "print(\"df assuming del(A) = vvT: \") \n",
    "print(df_vvT)"
   ]
  }
 ],
 "metadata": {
  "kernelspec": {
   "display_name": "Julia 1.11.3",
   "language": "julia",
   "name": "julia-1.11"
  },
  "language_info": {
   "file_extension": ".jl",
   "mimetype": "application/julia",
   "name": "julia",
   "version": "1.11.3"
  }
 },
 "nbformat": 4,
 "nbformat_minor": 2
}
