{
 "cells": [
  {
   "cell_type": "markdown",
   "metadata": {},
   "source": [
    "# 18.063 Pset 1\n",
    "### Problem 2\n",
    "$$ df = f'(A)[dA] = (\\nabla f)^T[dA] = d\\lambda - \\lambda $$\n",
    "$$ (\\nabla f)^T = (vv^T)^T = v^{TT}v^T = vv^T$$\n",
    "$$ f'(A) = vec(vv^T) \\cdot vec(dA) $$"
   ]
  },
  {
   "cell_type": "code",
   "execution_count": null,
   "metadata": {},
   "outputs": [],
   "source": [
    "using LinearAlgebra\n",
    "A = randn(4,4)\n",
    "dA = 1E-7 * randn(4,4)\n",
    "A = .5 * (A + A')\n",
    "\n",
    "λ = eigvals(A)[1]\n",
    "dλ = eigvals(A + dA)[1]\n",
    "v = normalize(eigvecs(A)[:, 1]) # Assuming v_1 corresponds to λ_1\n",
    "df_fd = dλ - λ\n",
    "df_vvT = dot(vec(v*v'), vec(dA))\n",
    "\n",
    "print(\"df from Forward Difference: \")\n",
    "println(df_fd)\n",
    "print(\"df assuming del(A) = vvT: \") \n",
    "println(df_vvT)"
   ]
  },
  {
   "cell_type": "markdown",
   "metadata": {},
   "source": [
    "### Problem 3\n",
    "#### 1. \n",
    "$$ f(x) = g.(x) = \\begin{pmatrix} g(x_1) \\\\ g(x_2) \\\\ \\vdots \\end{pmatrix} $$\n",
    "$$ df = \\begin{pmatrix} g(x_1 + dx) - g(x_1) \\\\ g(x_2 + dx) - g(x_2) \\\\ \\vdots \\end{pmatrix} dx = \\begin{pmatrix} g'(x_1) \\\\ g'(x_2) \\\\ \\vdots \\end{pmatrix} dx = g'.(x)dx $$\n",
    "$$ df = g'.(x)dx = Jdx = \\begin{pmatrix} g'(x_1) && 0 && 0 && \\cdots && 0 \\\\ 0 && g'(x_2) && 0 && \\cdots && 0 \\\\ 0 && 0 && g'(x_3) && \\cdots && 0 \\\\ \\vdots && \\vdots && \\vdots && \\ddots \\\\ 0 && 0 && 0 && && g'(x_n) \\end{pmatrix} \\begin{pmatrix} dx_1 \\\\ dx_2 \\\\ dx_3 \\\\ ... \\end{pmatrix}$$\n",
    "$$ J = \\begin{pmatrix} g'(x_1) && 0 && 0 && \\cdots && 0 \\\\ 0 && g'(x_2) && 0 && \\cdots && 0 \\\\ 0 && 0 && g'(x_3) && \\cdots && 0 \\\\ \\vdots && \\vdots && \\vdots && \\ddots \\\\ 0 && 0 && 0 && && g'(x_n) \\end{pmatrix} $$\n",
    "#### 2. \n",
    "$$ f(A) = (A^TA)^{-1} \\rightarrow B = A^TA \\rightarrow dB = A^TdA + dA^TA $$\n",
    "$$ f(B) = B^{-1} \\rightarrow df = -B^{-1}dBB^{-1} $$\n",
    "$$ f'[dA] = -(A^TA)^{-1}(A^TdA + dA^TA)(A^TA)^{-1} $$ \n",
    "#### 3. \n",
    "$$ f(x) = (I + xx^T)^{-1}x \\rightarrow B = (I + xx^T)^{-1} \\rightarrow C = I + xx^T $$\n",
    "$$ f(x) = Bx \\rightarrow B = (C)^{-1} $$\n",
    "$$ dC = xdx^T + dxx^T \\rightarrow dB = -C^{-1}dCC^{-1} = (I + xx^T)^{-1}(xdx^T + dxx^T)(I + xx^T)^{-1} $$\n",
    "$$ df = dBx + Bdx $$\n",
    "$$ f'[dA] = (I + xx^T)^{-1}(xdx^T + dxx^T)(I + xx^T)^{-1}x + (I + xx^T)^{-1}dx $$\n",
    "#### 4. \n",
    "$$ f(A) = tr(A^3) \\rightarrow B = A^3 \\rightarrow f(A) = tr(B) $$\n",
    "$$ df = dtr(B) = tr(dB) = tr(dAA^2 + AdAA + A^2dA) $$\n",
    "$$ tr(dAA^2) = tr(AdAA) = tr(A^2dA) \\rightarrow df = tr(3A^2dA) $$ \n",
    "$$ df = \\langle \\nabla f, dA \\rangle = tr((\\nabla f)^TdA) = tr(3A^2dA)$$ \n",
    "$$ \\nabla f = (3A^2)^T $$"
   ]
  },
  {
   "cell_type": "markdown",
   "metadata": {},
   "source": [
    "### Problem 4\n",
    "#### 1. \n",
    "$$ A \\otimes (B \\otimes C) = A \\otimes \\begin{pmatrix} b_{11} C & \\cdots & b_{1n} C \\\\ \\vdots & \\ddots & \\vdots \\\\ b_{m1} C & \\cdots & b_{mn} C \\end{pmatrix} = \\begin{pmatrix} a_{11} \\begin{pmatrix} b_{11} C & \\cdots & b_{1n} C \\\\ \\vdots & \\ddots & \\vdots \\\\ b_{m1} C & \\cdots & b_{mn} C \\end{pmatrix} & \\cdots & a_{1n} \\begin{pmatrix} b_{11} C & \\cdots & b_{1n} C \\\\ \\vdots & \\ddots & \\vdots \\\\ b_{m1} C & \\cdots & b_{mn} C \\end{pmatrix} \\\\ \\vdots & \\ddots & \\vdots \\\\ a_{m1} \\begin{pmatrix} b_{11} C & \\cdots & b_{1n} C \\\\ \\vdots & \\ddots & \\vdots \\\\ b_{m1} C & \\cdots & b_{mn} C \\end{pmatrix} & \\cdots & a_{mn} \\begin{pmatrix} b_{11} C & \\cdots & b_{1n} C \\\\ \\vdots & \\ddots & \\vdots \\\\ b_{m1} C & \\cdots & b_{mn} C \\end{pmatrix} \\end{pmatrix} = \\begin{pmatrix} a_{11} b_{11} C & \\cdots & a_{1n} b_{1n} C \\\\ \\vdots & \\ddots & \\vdots \\\\ a_{m1} b_{m1} C & \\cdots & a_{mn} b_{mn} C \\end{pmatrix} $$\n",
    "$$ (A \\otimes B) \\otimes C = \\begin{pmatrix} a_{11} B & \\cdots & a_{1n} B \\\\ \\vdots & \\ddots & \\vdots \\\\ a_{m1} B & \\cdots & a_{mn} B \\end{pmatrix} \\otimes C = \\begin{pmatrix} a_{11} b_{11} C & \\cdots & a_{1n} b_{1n} C \\\\ \\vdots & \\ddots & \\vdots \\\\ a_{m1} b_{m1} C & \\cdots & a_{mn} b_{mn} C \\end{pmatrix} = A \\otimes (B \\otimes C) $$\n",
    "#### 2. \n",
    "$$ (A \\otimes B)(C \\otimes D) = B(C \\otimes D)A^T = B(D(A^T)C^T) = BD(I)A^TC^T = (AC \\otimes BD)I = (AC \\otimes BD)$$"
   ]
  },
  {
   "cell_type": "markdown",
   "metadata": {},
   "source": [
    "### Problem 5\n",
    "#### 1. \n",
    "$$ M(\\lambda) = \\begin{pmatrix} M_{11}(\\lambda) & \\cdots & M_{1n}(\\lambda) \\\\ \\vdots & \\ddots & \\vdots \\\\ M_{n1}(\\lambda) & \\cdots & M_{nn}(\\lambda) \\end{pmatrix}  $$\n",
    "$$ dM(\\lambda) = \\begin{pmatrix} M_{11}(\\lambda + d\\lambda) - M_{11}(\\lambda)& \\cdots & M_{11}(\\lambda + d\\lambda) - M_{1n}(\\lambda) \\\\ \\vdots & \\ddots & \\vdots \\\\ M_{11}(\\lambda + d\\lambda) - M_{n1}(\\lambda) & \\cdots & M_{nn}(\\lambda + d\\lambda) - M_{nn}(\\lambda) \\end{pmatrix} d\\lambda"
   ]
  }
 ],
 "metadata": {
  "kernelspec": {
   "display_name": "Julia 1.11.3",
   "language": "julia",
   "name": "julia-1.11"
  },
  "language_info": {
   "file_extension": ".jl",
   "mimetype": "application/julia",
   "name": "julia",
   "version": "1.11.3"
  }
 },
 "nbformat": 4,
 "nbformat_minor": 2
}
