{
 "cells": [
  {
   "cell_type": "markdown",
   "metadata": {},
   "source": [
    "# 18.063 Pset 1\n",
    "Note: This is my first time ever using full LaTeX and Julia so please forgive any formatting errors. "
   ]
  },
  {
   "cell_type": "markdown",
   "metadata": {},
   "source": [
    "### Problem 1\n",
    "I did find Part 2.5 (The Chain Rule) a bit confusing, as although I understood the chain rule in the specific case it explained here, it seems to only work when the differential term is \"factored out\" nicely. I had no idea what to do when you had f'(A)[dA] in terms of an expression involving dA's, and after re-reading though the section several times I still don't really know if the method I applied in problem 3 to do the chain rule is correct. Having a concrete example of composition where dA's can not be factored out nicely would help with this a lot. Thanks! "
   ]
  },
  {
   "cell_type": "markdown",
   "metadata": {},
   "source": [
    "### Problem 2\n",
    "$$ df = f'(A)[dA] = (\\nabla f)^T[dA] = d\\lambda - \\lambda $$\n",
    "$$ (\\nabla f)^T = (vv^T)^T = v^{TT}v^T = vv^T$$\n",
    "$$ f'(A) = vec(vv^T) \\cdot vec(dA) $$"
   ]
  },
  {
   "cell_type": "code",
   "execution_count": 55,
   "metadata": {},
   "outputs": [
    {
     "name": "stdout",
     "output_type": "stream",
     "text": [
      "df from Forward Difference: -6.268996877167865e-9\n",
      "df assuming del(A) = vvT: -6.268996603806086e-9\n"
     ]
    }
   ],
   "source": [
    "using LinearAlgebra\n",
    "A = randn(4,4)\n",
    "δA = randn(4,4) * 1E-8\n",
    "A = .5 * (A + A')\n",
    "\n",
    "λ = eigvals(A)[1]\n",
    "dλ = eigvals(A + δA)[1]\n",
    "v = normalize(eigvecs(A)[:, 1]) # Assuming v_1 corresponds to λ_1\n",
    "df_fd = dλ - λ\n",
    "df_vvT = dot(vec(v*v'), vec(δA))\n",
    "\n",
    "print(\"df from Forward Difference: \")\n",
    "println(df_fd)\n",
    "print(\"df assuming del(A) = vvT: \") \n",
    "println(df_vvT)"
   ]
  },
  {
   "cell_type": "markdown",
   "metadata": {},
   "source": [
    "### Problem 3\n",
    "#### 1. \n",
    "$$ f(x) = g.(x) = \\begin{pmatrix} g(x_1) \\\\ g(x_2) \\\\ \\vdots \\end{pmatrix} $$\n",
    "$$ df = \\begin{pmatrix} g(x_1 + dx) - g(x_1) \\\\ g(x_2 + dx) - g(x_2) \\\\ \\vdots \\end{pmatrix} dx = \\begin{pmatrix} g'(x_1) \\\\ g'(x_2) \\\\ \\vdots \\end{pmatrix} dx = g'.(x)dx $$\n",
    "$$ df = g'.(x)dx = Jdx = \\begin{pmatrix} g'(x_1) & \\cdots & 0 \\\\ \\vdots & \\ddots & \\vdots \\\\ 0 & \\cdots & g'(x_n) \\end{pmatrix} \\begin{pmatrix} dx_1 \\\\ \\vdots \\\\ dx_n \\end{pmatrix} $$\n",
    "$$ J = \\begin{pmatrix} g'(x_1) & \\cdots & 0 \\\\ \\vdots & \\ddots & \\vdots \\\\ 0 & \\cdots & g'(x_n) \\end{pmatrix} $$\n",
    "#### 2. \n",
    "$$ f(A) = (A^TA)^{-1} \\rightarrow B = A^TA \\rightarrow dB = A^TdA + dA^TA $$\n",
    "$$ f(B) = B^{-1} \\rightarrow df = -B^{-1}dBB^{-1} $$\n",
    "$$ f'[dA] = -(A^TA)^{-1}(A^TdA + dA^TA)(A^TA)^{-1} $$ \n",
    "#### 3. \n",
    "$$ f(x) = (I + xx^T)^{-1}x \\rightarrow B = (I + xx^T)^{-1} \\rightarrow C = I + xx^T $$\n",
    "$$ f(x) = Bx \\rightarrow B = (C)^{-1} $$\n",
    "$$ dC = xdx^T + dxx^T \\rightarrow dB = -C^{-1}dCC^{-1} = (I + xx^T)^{-1}(xdx^T + dxx^T)(I + xx^T)^{-1} $$\n",
    "$$ df = dBx + Bdx $$\n",
    "$$ f'[dA] = (I + xx^T)^{-1}(xdx^T + dxx^T)(I + xx^T)^{-1}x + (I + xx^T)^{-1}dx $$\n",
    "#### 4. \n",
    "$$ f(A) = tr(A^3) \\rightarrow B = A^3 \\rightarrow f(A) = tr(B) $$\n",
    "$$ df = dtr(B) = tr(dB) = tr(dAA^2 + AdAA + A^2dA) $$\n",
    "$$ tr(dAA^2) = tr(AdAA) = tr(A^2dA) \\rightarrow df = tr(3A^2dA) $$ \n",
    "$$ df = \\langle \\nabla f, dA \\rangle = tr((\\nabla f)^TdA) = tr(3A^2dA)$$ \n",
    "$$ \\nabla f = (3A^2)^T $$"
   ]
  },
  {
   "cell_type": "markdown",
   "metadata": {},
   "source": [
    "### Problem 4\n",
    "#### 1. \n",
    "$$ A \\otimes (B \\otimes C) = A \\otimes \\begin{pmatrix} b_{11} C & \\cdots & b_{1n} C \\\\ \\vdots & \\ddots & \\vdots \\\\ b_{m1} C & \\cdots & b_{mn} C \\end{pmatrix} = \\begin{pmatrix} a_{11} \\begin{pmatrix} b_{11} C & \\cdots & b_{1n} C \\\\ \\vdots & \\ddots & \\vdots \\\\ b_{m1} C & \\cdots & b_{mn} C \\end{pmatrix} & \\cdots & a_{1n} \\begin{pmatrix} b_{11} C & \\cdots & b_{1n} C \\\\ \\vdots & \\ddots & \\vdots \\\\ b_{m1} C & \\cdots & b_{mn} C \\end{pmatrix} \\\\ \\vdots & \\ddots & \\vdots \\\\ a_{m1} \\begin{pmatrix} b_{11} C & \\cdots & b_{1n} C \\\\ \\vdots & \\ddots & \\vdots \\\\ b_{m1} C & \\cdots & b_{mn} C \\end{pmatrix} & \\cdots & a_{mn} \\begin{pmatrix} b_{11} C & \\cdots & b_{1n} C \\\\ \\vdots & \\ddots & \\vdots \\\\ b_{m1} C & \\cdots & b_{mn} C \\end{pmatrix} \\end{pmatrix} = \\begin{pmatrix} a_{11} b_{11} C & \\cdots & a_{1n} b_{1n} C \\\\ \\vdots & \\ddots & \\vdots \\\\ a_{m1} b_{m1} C & \\cdots & a_{mn} b_{mn} C \\end{pmatrix} $$\n",
    "$$ (A \\otimes B) \\otimes C = \\begin{pmatrix} a_{11} B & \\cdots & a_{1n} B \\\\ \\vdots & \\ddots & \\vdots \\\\ a_{m1} B & \\cdots & a_{mn} B \\end{pmatrix} \\otimes C = \\begin{pmatrix} a_{11} b_{11} C & \\cdots & a_{1n} b_{1n} C \\\\ \\vdots & \\ddots & \\vdots \\\\ a_{m1} b_{m1} C & \\cdots & a_{mn} b_{mn} C \\end{pmatrix} = A \\otimes (B \\otimes C) $$\n",
    "$$ A \\otimes (B \\otimes C) = (A \\otimes B) \\otimes C $$\n",
    "#### 2. \n",
    "$$ (A \\otimes B)(C \\otimes D) = B(C \\otimes D)A^T = B(D(A^T)C^T) = BD(I)A^TC^T = (AC \\otimes BD)I = AC \\otimes BD $$\n",
    "$$ (A \\otimes B)(C \\otimes D) = AC \\otimes BD $$"
   ]
  },
  {
   "cell_type": "markdown",
   "metadata": {},
   "source": [
    "### Problem 5\n",
    "#### 1. \n",
    "$$ M(\\lambda) = \\begin{pmatrix} M_{11}(\\lambda) & \\cdots & M_{1n}(\\lambda) \\\\ \\vdots & \\ddots & \\vdots \\\\ M_{n1}(\\lambda) & \\cdots & M_{nn}(\\lambda) \\end{pmatrix}  $$\n",
    "$$ dM(\\lambda) = \\begin{pmatrix} M_{11}(\\lambda + d\\lambda) - M_{11}(\\lambda)& \\cdots & M_{11}(\\lambda + d\\lambda) - M_{1n}(\\lambda) \\\\ \\vdots & \\ddots & \\vdots \\\\ M_{11}(\\lambda + d\\lambda) - M_{n1}(\\lambda) & \\cdots & M_{nn}(\\lambda + d\\lambda) - M_{nn}(\\lambda) \\end{pmatrix} = \\begin{pmatrix} M'_{11}(\\lambda) & \\cdots & M'_{1n}(\\lambda) \\\\ \\vdots & \\ddots & \\vdots \\\\ M'_{n1}(\\lambda) & \\cdots & M'_{nn}(\\lambda) \\end{pmatrix} d\\lambda $$\n",
    "$$ \\frac{dM}{d\\lambda} = \\begin{pmatrix} M'_{11}(\\lambda) & \\cdots & M'_{1n}(\\lambda) \\\\ \\vdots & \\ddots & \\vdots \\\\ M'_{n1}(\\lambda) & \\cdots & M'_{nn}(\\lambda) \\end{pmatrix} $$\n",
    "#### 2. \n",
    "$$ f(\\lambda) = det(M(\\lambda)) \\rightarrow df = d(det(M)) = tr(det(M)M^{-1}dM) = tr(det(M)M^{-1}M'd\\lambda) = det(M)tr(M^{-1}M')d\\lambda $$\n",
    "$$ \\frac{df}{d\\lambda} = det(M)tr(M^{-1}M') \\rightarrow f'(\\lambda)^{-1}f(\\lambda) = \\frac{det(M)}{det(M)tr(M^{-1}M')} $$\n",
    "$$ f'(\\lambda)^{-1}f(\\lambda) = \\frac{1}{tr(M^{-1}M')} $$\n",
    "#### 3."
   ]
  },
  {
   "cell_type": "markdown",
   "metadata": {},
   "source": [
    "$$ M(\\lambda) = A - \\lambda I + \\alpha sin(\\lambda) B $$\n",
    "$$ \\frac{dM}{d\\lambda} = -I + \\alpha(cos(\\lambda))B $$"
   ]
  },
  {
   "cell_type": "code",
   "execution_count": 56,
   "metadata": {},
   "outputs": [
    {
     "name": "stdout",
     "output_type": "stream",
     "text": [
      "λ: 3.0140319\n",
      "Steps: 9\n",
      "Error: 3.472181059884374e-11\n"
     ]
    }
   ],
   "source": [
    "using LinearAlgebra\n",
    "A = [-2 -1 -7; -1 6 5; -7 5 6]\n",
    "B = [7 -1 8; -1 7 -1; 8 -1 3]\n",
    "α = .01\n",
    "steps = 0\n",
    "\n",
    "M(λ) = A - λ*I(3) + α*λ*sin(λ)*B\n",
    "λ = argmax(eigvals(A))\n",
    "\n",
    "while abs(det(M(λ))) > 1E-10\n",
    "    λ = λ - 1/tr(inv(M(λ)) * (-I(3) + α*cos(λ)*B))\n",
    "    steps += 1\n",
    "end\n",
    "\n",
    "print(\"λ: \")\n",
    "println(round(λ, digits=7))\n",
    "print(\"Steps: \")\n",
    "println(steps)\n",
    "print(\"Error: \")\n",
    "println(abs(det(M(λ))))"
   ]
  },
  {
   "cell_type": "markdown",
   "metadata": {},
   "source": [
    "### Problem 6\n",
    "#### 1. \n",
    "$$ f(A) = e^A \\rightarrow df = e^{A + dA} - e^{A} = f'(A)[dA] $$\n"
   ]
  },
  {
   "cell_type": "code",
   "execution_count": 60,
   "metadata": {},
   "outputs": [
    {
     "data": {
      "text/plain": [
       "3×3 Matrix{Float64}:\n",
       "  2.53057e-8  4.30745e-9  3.81891e-8\n",
       " -1.72424e-9  2.50053e-8  5.40647e-8\n",
       "  3.44491e-8  2.14464e-9  7.72267e-8"
      ]
     },
     "metadata": {},
     "output_type": "display_data"
    },
    {
     "data": {
      "text/plain": [
       "3×3 Matrix{Float64}:\n",
       "  2.53057e-8  4.30745e-9  3.81891e-8\n",
       " -1.72424e-9  2.50053e-8  5.40647e-8\n",
       "  3.44491e-8  2.14464e-9  7.72267e-8"
      ]
     },
     "metadata": {},
     "output_type": "display_data"
    },
    {
     "data": {
      "text/plain": [
       "6×6 Matrix{Float64}:\n",
       " -1.11022e-16   5.55112e-17   0.0          …  -2.3965e-16   -4.54025e-16\n",
       "  0.0           0.0           2.22045e-16      1.43804e-16   2.0605e-16\n",
       "  0.0          -2.77556e-17  -1.11022e-16      1.27015e-17  -1.24926e-17\n",
       "  0.0           0.0           0.0              5.55112e-17   0.0\n",
       "  0.0           0.0           0.0              0.0           2.22045e-16\n",
       "  0.0           0.0           0.0          …  -2.77556e-17  -1.11022e-16"
      ]
     },
     "metadata": {},
     "output_type": "display_data"
    }
   ],
   "source": [
    "using LinearAlgebra\n",
    "A = randn(3, 3)\n",
    "δA = randn(3, 3) * 1E-8\n",
    "N = [A δA; zeros(3, 3) A]\n",
    "\n",
    "eN_T = exp(N)\n",
    "eN_C = [exp(A) exp(A + δA) - exp(A); zeros(3, 3) exp(A)]\n",
    "\n",
    "display(eN_T[1:3,4:6])\n",
    "display(eN_C[1:3,4:6])\n",
    "display(N_T - N_C)"
   ]
  },
  {
   "cell_type": "markdown",
   "metadata": {},
   "source": [
    "#### 2. \n",
    "$$ f(A) = I \\rightarrow f \\begin{pmatrix} A & dA \\\\ 0 & A \\end{pmatrix} = I $$\n",
    "$$ \\begin{pmatrix} f(A) & f'(A)[dA] \\\\ 0 & f(A) \\end{pmatrix} = \\begin{pmatrix} I & 0dA \\\\ 0 & I \\end{pmatrix} = I $$ \n",
    "$$ f(A) = A \\rightarrow f \\begin{pmatrix} A & dA \\\\ 0 & A \\end{pmatrix} = \\begin{pmatrix} A & dA \\\\ 0 & A \\end{pmatrix}$$\n",
    "$$ \\begin{pmatrix} f(A) & f'(A)[dA] \\\\ 0 & f(A) \\end{pmatrix} = \\begin{pmatrix} A & 1dA \\\\ 0 & A \\end{pmatrix} = \\begin{pmatrix} A & dA \\\\ 0 & A \\end{pmatrix} $$ \n",
    "$$ f(A) = A^2 \\rightarrow f \\begin{pmatrix} A & dA \\\\ 0 & A \\end{pmatrix} = \\begin{pmatrix} A & dA \\\\ 0 & A \\end{pmatrix} \\begin{pmatrix} A & dA \\\\ 0 & A \\end{pmatrix} = \\begin{pmatrix} A^2 & AdA + dAA \\\\ 0 & A^2 \\end{pmatrix} $$\n",
    "$$ \\begin{pmatrix} f(A) & f'(A)[dA] \\\\ 0 & f(A) \\end{pmatrix} = \\begin{pmatrix} A^2 & d(A^2) \\\\ 0 & A^2 \\end{pmatrix} = \\begin{pmatrix} A^2 & AdA + dAA \\\\ 0 & A^2 \\end{pmatrix} $$ \n",
    "$$ f(A) = A^3 \\rightarrow f \\begin{pmatrix} A & dA \\\\ 0 & A \\end{pmatrix} = \\begin{pmatrix} A^2 & AdA + dAA \\\\ 0 & A^2 \\end{pmatrix} \\begin{pmatrix} A & dA \\\\ 0 & A \\end{pmatrix} = \\begin{pmatrix} A^3 & A^2dA + AdAA + dAA^2 \\\\ 0 & A^3 \\end{pmatrix} $$\n",
    "$$ \\begin{pmatrix} f(A) & f'(A)[dA] \\\\ 0 & f(A) \\end{pmatrix} = \\begin{pmatrix} A^3 & d(A^3) \\\\ 0 & A^3 \\end{pmatrix} = \\begin{pmatrix} A^3 & A^2dA + AdAA + dAA^2 \\\\ 0 & A^3 \\end{pmatrix} $$\n",
    "#### 3. \n",
    "$$ d(A^{n}) = (A^{n})'[dA] = \\sum_{m=1}^{n} A^{m-1}dAA^{n-m} \\rightarrow d(A^{n-1}) = \\sum_{m=1}^{n-1} A^{m-1}dAA^{n-1-m} $$\n",
    "$$ P(n): \\begin{pmatrix} A & dA \\\\ 0 & A \\end{pmatrix} ^ {n-1} = \\begin{pmatrix} A^{n-1} & (A^{n-1})'[dA] \\\\ 0 & A^{n-1} \\end{pmatrix} = \\begin{pmatrix} A^{n-1} & \\sum_{m=1}^{n-1} A^{m-1}dAA^{n-1-m} \\\\ 0 & A^{n-1} \\end{pmatrix} $$\n",
    "$$ k = (n-1) + 1 = n \\rightarrow n - 1 = k - 1 \\rightarrow P(n) = P(k-1) $$\n",
    "$$ \\begin{pmatrix} A & dA \\\\ 0 & A \\end{pmatrix} ^ {k} = \\begin{pmatrix} A^{k-1} & \\sum_{m=1}^{k-1} A^{m-1}dAA^{k-1-m} \\\\ 0 & A^{k-1} \\end{pmatrix} \\begin{pmatrix} A & dA \\\\ 0 & A \\end{pmatrix} = \\begin{pmatrix} A^{k} & A^{k-1}dA + \\sum_{m=1}^{k-1} A^{m-1}dAA^{k-1-m}A \\\\ 0 & A^{k} \\end{pmatrix} $$\n",
    "$$ \\sum_{m=1}^{k} A^{m-1}dAA^{k-m} = \\sum_{m=1}^{k-1} A^{m-1}dAA^{k-1-m}A + A^{k-1}dA $$\n",
    "$$ \\begin{pmatrix} A & dA \\\\ 0 & A \\end{pmatrix} ^ {k} = \\begin{pmatrix} A^{k} & \\sum_{m=1}^{k} A^{m-1}dAA^{k-m} \\\\ 0 & A^{k} \\end{pmatrix} = P(k) $$\n",
    "As $P(k=0)$ is true and $P(k)$ is true assuming $P(k-1)$ is true, $P(n)$ holds for all $n \\geq 0$\n",
    "#### 4. \n",
    "$$ \\begin{pmatrix} A & dA \\\\ 0 & A \\end{pmatrix} \\begin{pmatrix} A^{-1} & -A^{-1}dAA^{-1} \\\\ 0 & A^{-1} \\end{pmatrix} = \\begin{pmatrix} 1 & -AA^{-1}dAA^{-1} + dAA^{-1} \\\\ 0 & 1 \\end{pmatrix} =  \\begin{pmatrix} 1 & -dAA^{-1} + dAA^{-1} \\\\ 0 & 1 \\end{pmatrix} = \\begin{pmatrix} 1 & 0 \\\\ 0 & 1 \\end{pmatrix} $$\n",
    "$$ \\begin{pmatrix} A & dA \\\\ 0 & A \\end{pmatrix} \\begin{pmatrix} A^{-1} & -A^{-1}dAA^{-1} \\\\ 0 & A^{-1} \\end{pmatrix} = I $$"
   ]
  }
 ],
 "metadata": {
  "kernelspec": {
   "display_name": "Julia 1.11.3",
   "language": "julia",
   "name": "julia-1.11"
  },
  "language_info": {
   "file_extension": ".jl",
   "mimetype": "application/julia",
   "name": "julia",
   "version": "1.11.3"
  }
 },
 "nbformat": 4,
 "nbformat_minor": 2
}
