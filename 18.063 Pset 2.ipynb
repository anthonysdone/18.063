{
 "cells": [
  {
   "cell_type": "markdown",
   "metadata": {},
   "source": [
    "# 18.063 Pset 2"
   ]
  },
  {
   "cell_type": "markdown",
   "metadata": {},
   "source": [
    "### Problem 2\n",
    "#### 1. \n",
    "$$ g(x, p) = \\begin{pmatrix} p_1 x_1^2 - x_2 \\\\ x_1 x_2 - p_2 x_2 + p_3 \\end{pmatrix} $$\n",
    "$$ dg = \\frac{\\partial g}{\\partial x} dx + \\frac{\\partial g}{\\partial p} dp = \\begin{pmatrix} \\frac{\\partial g_1}{\\partial x_1} & \\frac{\\partial g_1}{\\partial x_2} \\\\ \\frac{\\partial g_2}{\\partial x_1} & \\frac{\\partial g_2}{\\partial x_2} \\end{pmatrix} \\begin{pmatrix} dx_1 \\\\ dx_2 \\end{pmatrix} + \\begin{pmatrix} \\frac{\\partial g_1}{\\partial p_1} & \\frac{\\partial g_1}{\\partial p_2} & \\frac{\\partial g_1}{\\partial p_3}\\\\ \\frac{\\partial g_2}{\\partial p_1} & \\frac{\\partial g_2}{\\partial p_2} & \\frac{\\partial g_2}{\\partial p_3} \\end{pmatrix} \\begin{pmatrix} dp_1 \\\\ dp_2 \\\\ dp_3 \\end{pmatrix}$$\n",
    "$$ \\frac{\\partial g}{\\partial x} = \\begin{pmatrix} 2 p_1 x_1 & -1 \\\\ x_2 & x_1 - p_2 \\end{pmatrix} \\rightarrow \\frac{\\partial g}{\\partial p} = \\begin{pmatrix} x_1^2 & 0 & 0 \\\\ 0 & -x_2 & 1 \\end{pmatrix} $$\n",
    "#### 2. \n",
    "$$ x := x - \\frac{g(x)}{g'(x)} = x - (\\frac{\\partial g}{\\partial x})^{-1}f(x) $$"
   ]
  },
  {
   "cell_type": "code",
   "execution_count": 81,
   "metadata": {},
   "outputs": [
    {
     "name": "stdout",
     "output_type": "stream",
     "text": [
      "x: [1.0, 1.0]\n",
      "steps: 5\n"
     ]
    }
   ],
   "source": [
    "using LinearAlgebra\n",
    "\n",
    "function g(x, p)\n",
    "    return [p[1]*x[1]^2 - x[2]; x[1]*x[2] - p[2]*x[2] + p[3]]\n",
    "end\n",
    "\n",
    "function dgdx(x, p) \n",
    "    return [2*p[1]*x[1] -1; x[2] x[1]-p[2]]\n",
    "end\n",
    "\n",
    "p = [1, 2, 1]\n",
    "x = [1.2, 1.3]\n",
    "steps = 0\n",
    "\n",
    "while norm(g(x, p)) > 1e-12\n",
    "    x = x - inv(dgdx(x, p)) * g(x, p)\n",
    "    steps += 1\n",
    "end \n",
    "\n",
    "println(\"x: \", x)\n",
    "println(\"steps: \", steps)"
   ]
  },
  {
   "cell_type": "markdown",
   "metadata": {},
   "source": [
    "#### 3. \n",
    "$$ f(p) = ||x(p)|| \\rightarrow \\nabla _p f(p) = \\frac{df}{dx} \\frac{dx}{dp} $$\n",
    "$$ \\nabla f = \\frac{x}{||x||} \\rightarrow \\frac{df}{dx} = (\\nabla f)^T = \\frac{x^T}{||x||} $$\n",
    "$$ g(x,p) = 0 \\rightarrow dg = \\frac{\\partial g}{\\partial x} dx + \\frac{\\partial g}{\\partial p} dp = 0 \\rightarrow dx = -(\\frac{\\partial g}{\\partial x})^{-1} \\frac{\\partial g}{\\partial p} dp $$\n",
    "$$ \\frac{dx}{dp} = -\\begin{pmatrix} 2 p_1 x_1 & -1 \\\\ x_2 & x_1 - p_2 \\end{pmatrix}^{-1} \\begin{pmatrix} x_1^2 & 0 & 0 \\\\ 0 & -x_2 & 1 \\end{pmatrix} $$\n",
    "$$ \\nabla _p f(p) = - \\frac{x^T}{||x||} \\begin{pmatrix} 2 p_1 x_1 & -1 \\\\ x_2 & x_1 - p_2 \\end{pmatrix}^{-1} \\begin{pmatrix} x_1^2 & 0 & 0 \\\\ 0 & -x_2 & 1 \\end{pmatrix} $$"
   ]
  },
  {
   "cell_type": "code",
   "execution_count": 2,
   "metadata": {},
   "outputs": [
    {
     "name": "stdout",
     "output_type": "stream",
     "text": [
      "x(p): [1.0000000196014145, 1.0000000444691235]\n",
      "(∇f)'δp: 4.5304714796262516e-8\n",
      "δf: 4.530471175989703e-8\n"
     ]
    }
   ],
   "source": [
    "using LinearAlgebra\n",
    "\n",
    "function g(x, p)\n",
    "    return [p[1]*x[1]^2 - x[2]; x[1]*x[2] - p[2]*x[2] + p[3]]\n",
    "end\n",
    "\n",
    "function dgdx(x, p) \n",
    "    return [2*p[1]*x[1] -1; x[2] x[1]-p[2]]\n",
    "end\n",
    "\n",
    "function dgdp(x, p)\n",
    "    return [x[1]^2 0 0; 0 -x[1] 1]\n",
    "end\n",
    "\n",
    "function f(p)\n",
    "    return norm(x)\n",
    "end\n",
    "\n",
    "p = [1, 2, 1]\n",
    "x = [1, 1]\n",
    "δp = randn(3) * 1E-8\n",
    "p += δp\n",
    "\n",
    "while norm(g(x,p)) > 1e-10\n",
    "    x = x - inv(dgdx(x, p)) * g(x, p)\n",
    "end \n",
    "\n",
    "δf = f(p) - norm([1, 1]) # f(p + δp) - f(p)\n",
    "∇f = - x'/norm(x) * inv(dgdx(x,p)) * dgdp(x,p)\n",
    "\n",
    "LHS = dot((∇f)', δp)\n",
    "RHS = δf\n",
    "\n",
    "println(\"x(p): \", x)\n",
    "println(\"(∇f)'δp: \", LHS)\n",
    "println(\"δf: \", RHS)"
   ]
  },
  {
   "cell_type": "markdown",
   "metadata": {},
   "source": [
    "### Problem 3\n",
    "$$ g(\\lambda, A) = 0 \\rightarrow dg = \\frac{\\partial g}{\\partial \\lambda} d\\lambda + \\langle \\frac{\\partial g}{\\partial A}, dA \\rangle = \\frac{\\partial g}{\\partial \\lambda} \\langle \\nabla _A \\lambda , dA \\rangle + \\langle \\frac{\\partial g}{\\partial A}, dA \\rangle $$\n",
    "$$ B = A - \\lambda I \\rightarrow g(B) = det(B) \\rightarrow \\frac{\\partial g}{\\partial A} = \\frac{\\partial g}{\\partial B} \\frac{\\partial B}{\\partial A} \\rightarrow \\frac{\\partial g}{\\partial \\lambda} = \\langle \\frac{\\partial g}{\\partial B} , \\frac{\\partial B}{\\partial \\lambda} \\rangle $$\n",
    "This is because $ dg $ is a scalar, meaning $ \\frac{\\partial g}{\\partial A} [dA] $ must be a scalar, making the operation a Frobenius inner product. The same applies for $ \\frac{\\partial g}{\\partial \\lambda} = \\frac{\\partial g}{\\partial B} [\\frac{\\partial B}{\\partial \\lambda}] $, which must be a scalar, meaning the operation must also be an inner product. We may also note that as $ \\frac{\\partial g}{\\partial \\lambda} $ is a scalar we may freely divide it into the inner product for $ \\frac{\\partial g}{\\partial A} [dA] $. \n",
    "$$ \\langle \\frac{\\partial g}{\\partial B} , \\frac{\\partial B}{\\partial \\lambda} \\rangle \\langle \\nabla _k \\lambda , dA \\rangle + \\langle \\frac{\\partial g}{\\partial B} \\frac{\\partial B}{\\partial A} , dA \\rangle = 0 \\rightarrow \\langle \\nabla _A \\lambda , dA \\rangle = - \\langle \\frac{\\frac{\\partial g}{\\partial B} \\frac{\\partial B}{\\partial A}}{\\langle \\frac{\\partial g}{\\partial B} , \\frac{\\partial B}{\\partial \\lambda} \\rangle} , dA \\rangle \\rightarrow \\nabla _A \\lambda = - \\frac{\\frac{\\partial g}{\\partial B} \\frac{\\partial B}{\\partial A}}{\\langle \\frac{\\partial g}{\\partial B} , \\frac{\\partial B}{\\partial \\lambda} \\rangle} $$\n",
    "$$ \\frac{\\partial g}{\\partial B} = (adj(B))^T \\rightarrow \\frac{\\partial B}{\\partial A} = I \\rightarrow \\frac{\\partial B}{\\partial \\lambda} = -I $$\n",
    "$$ \\frac{\\partial g}{\\partial B} \\frac{\\partial B}{\\partial A} = (adj(B))^T = (adj(A - \\lambda I))^T = adj(A - \\lambda I) $$\n",
    "$$ \\langle \\frac{\\partial g}{\\partial B} , \\frac{\\partial B}{\\partial \\lambda} \\rangle = - tr(adj(B)) = - tr(adj(A - \\lambda I)) $$\n",
    "$$ q_k^Tq_k = 1 \\rightarrow QQ^T = I \\rightarrow Q^{-1} = Q^T \\rightarrow A = Q \\Lambda Q^T \\rightarrow -\\lambda I = Q(-\\lambda I)Q^T \\rightarrow A - \\lambda I = Q(\\Lambda - \\lambda I)Q^T $$\n",
    "$$ adj(A - \\lambda I) = Q(adj(\\Lambda - \\lambda I))Q^T = Q adj(\\begin{pmatrix} \\lambda _1 & & \\\\  & \\ddots & \\\\ & & \\lambda _k \\end{pmatrix} - \\begin{pmatrix} \\lambda & & \\\\  & \\ddots & \\\\ & & \\lambda \\end{pmatrix}) Q^T = Q adj(\\begin{pmatrix} \\lambda _1 - \\lambda & & \\\\  & \\ddots & \\\\ & & \\lambda _k - \\lambda \\end{pmatrix}) Q^T $$\n",
    "$$ \\lim _{\\lambda \\rightarrow \\lambda _k} adj(A - \\lambda I) =  [q_1 \\cdots q_k] adj(\\begin{pmatrix} \\lambda _1 - \\lambda _k & & \\\\ & \\ddots & \\\\ & & \\lambda _k - \\lambda _k = 0 \\end{pmatrix}) [q_1 \\cdots q_k]^T $$\n",
    "$$ = [q_1 \\cdots q_k] \\begin{pmatrix} 0 & & \\\\ & \\ddots & \\\\ & & \\Pi _{j \\neq k} (\\lambda _j - \\lambda _k) \\end{pmatrix} = [q_1 \\cdots q_k]^T = q_k\\Pi _{j \\neq k} (\\lambda _j - \\lambda _k)q_k^T = L_kq_kq_k^T $$\n",
    "$$ \\nabla _A \\lambda _k = - \\frac{\\frac{\\partial g}{\\partial B} \\frac{\\partial B}{\\partial A}}{\\langle \\frac{\\partial g}{\\partial B} , \\frac{\\partial B}{\\partial \\lambda} \\rangle} = \\frac{adj(A - \\lambda _k I)}{tr(adj(A - \\lambda _k I))} = \\frac{L_k q_k q_k^T}{tr(L_k q_k q_k^T)} = \\frac{L_k q_k q_k^T}{L_k tr(q_k q_k^T)} = q_kq_k^T $$"
   ]
  },
  {
   "cell_type": "markdown",
   "metadata": {},
   "source": [
    "### Problem 4\n",
    "#### 1. \n",
    "$$ \\frac{\\partial u}{\\partial t} = f(u, L_1, L_2, t) \\rightarrow J_1 = \\frac{\\partial u}{\\partial L_1} \\rightarrow J_2 = \\frac{\\partial u}{\\partial L_2} $$\n",
    "$$ \\frac{\\partial J_1}{\\partial t} = \\frac{\\partial f}{\\partial u} J_1 + \\frac{\\partial f}{\\partial L_1} \\rightarrow \\frac{\\partial J_2}{\\partial t} = \\frac{\\partial f}{\\partial u} J_2 + \\frac{\\partial f}{\\partial L_2} $$\n",
    "$$ \\frac{\\partial}{\\partial t} \\begin{pmatrix} u \\\\ J_1 \\\\ J_2 \\end{pmatrix} = \\begin{pmatrix} f(u, L_1, L_2, t) \\\\ \\frac{\\partial f}{\\partial u} J_1 + \\frac{\\partial f}{\\partial L_1} \\\\ \\frac{\\partial f}{\\partial u} J_2 + \\frac{\\partial f}{\\partial L_2} \\end{pmatrix} = F(u, J_1, J_2, t) $$\n",
    "#### 2. "
   ]
  },
  {
   "cell_type": "code",
   "execution_count": null,
   "metadata": {},
   "outputs": [],
   "source": [
    "using DifferentialEquations, Plots, ForwardDiff, StaticArrays, LaTeXStrings, LinearAlgebra\n",
    "\n",
    "function doublependulum(u, params, t)\n",
    "    g = 9.80665 # Earth gravity (m/s²)\n",
    "    (; l1, l2, m1, m2) = params\n",
    "\n",
    "    Δθ = u[1] - u[2]\n",
    "    M = @SMatrix[l1*(m1+m2)   m2*l2*cos(Δθ)\n",
    "                 l1*cos(Δθ)   l2]\n",
    "    rhs = @SVector[-m2*l2*u[4]^2*sin(Δθ) - g*(m1+m2)*sin(u[1]),\n",
    "                   l1*u[3]^2*sin(Δθ) - g*sin(u[2])]\n",
    "    θ̈ = M \\ rhs\n",
    "    u̇ = @SVector[u[3], u[4], θ̈[1], θ̈[2]]\n",
    "    return u̇\n",
    "end\n",
    "\n",
    "function doublependulum_∂IC(uJ, params, t)\n",
    "    # extract u and J from uJ\n",
    "    u = SVector(ntuple(i -> uJ[i], Val(4)))\n",
    "    J1 = reshape(SVector(ntuple(i -> uJ[i + 4], Val(16))), Size(4,4))\n",
    "    J2 = reshape(SVector(ntuple(i -> uJ[i + 20], Val(16))), Size(4,4))\n",
    "\n",
    "    u̇ = doublependulum(u, params, t)\n",
    "    ∂f∂u = ForwardDiff.jacobian(u -> doublependulum(u, params, t), u)\n",
    "    JL = ForwardDiff.jacobian(l -> doublependulum(u, (; l1=l[1], l2=l[2], m1, m2), t), @SVector[l1,l2])\n",
    "    J̇1 = ∂f∂u * J1 + JL[1]\n",
    "    J̇2 = ∂f∂u * J2 + JL[2]\n",
    "    return [u̇; vec(J̇1); vec(J̇2)]\n",
    "end\n",
    "\n",
    "I₄ = @SMatrix[1 0 0 0; 0 1 0 0; 0 0 1 0; 0 0 0 1]\n",
    "tspan = (0.0, 10.0)\n",
    "p = (l1 = 1.0, l2 = 1.0, m1 = 1.0, m2 = 1.0)\n",
    "\n",
    "prob_diff = ODEProblem(doublependulum_∂IC, [@SVector[2, 2.0, 0, 0]; vec(I₄); vec(I₄)], tspan, p)\n",
    "sol_diff = solve(prob_diff, reltol = 1e-5)\n",
    "\n",
    "plot(sol_diff, idxs=10, label=L\"\\theta_2(0) = 2\")\n",
    "plot!(xlabel=\"time (s)\", ylabel=L\"\\partial\\theta_2(t)/\\partial\\L2(0)\")"
   ]
  },
  {
   "cell_type": "code",
   "execution_count": null,
   "metadata": {},
   "outputs": [],
   "source": []
  }
 ],
 "metadata": {
  "kernelspec": {
   "display_name": "Julia 1.11.3",
   "language": "julia",
   "name": "julia-1.11"
  },
  "language_info": {
   "file_extension": ".jl",
   "mimetype": "application/julia",
   "name": "julia",
   "version": "1.11.3"
  }
 },
 "nbformat": 4,
 "nbformat_minor": 2
}
